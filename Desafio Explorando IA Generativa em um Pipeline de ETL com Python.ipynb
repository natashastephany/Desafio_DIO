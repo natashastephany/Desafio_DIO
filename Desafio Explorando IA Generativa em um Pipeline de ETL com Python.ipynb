{
 "cells": [
  {
   "cell_type": "markdown",
   "id": "0ad05765",
   "metadata": {},
   "source": [
    "# Desafio Explorando IA Generativa em um Pipeline de ETL com Python"
   ]
  },
  {
   "cell_type": "code",
   "execution_count": 1,
   "id": "e8605bcb",
   "metadata": {},
   "outputs": [],
   "source": [
    "#Importando o pacotes\n",
    "\n",
    "import pandas as pd\n",
    "import requests \n",
    "import json"
   ]
  },
  {
   "cell_type": "code",
   "execution_count": 3,
   "id": "10d5a04c",
   "metadata": {},
   "outputs": [],
   "source": [
    "#Importando o dataframe\n",
    "\n",
    "#df = pd.read_csv(\"SantanderDevWeek.csv\")\n",
    "df = pd.read_csv('C:/Users/gusma/Documents/DIO/Curso_python/Desafio2.csv')"
   ]
  },
  {
   "cell_type": "code",
   "execution_count": 7,
   "id": "764b3b74",
   "metadata": {},
   "outputs": [
    {
     "data": {
      "text/html": [
       "<div>\n",
       "<style scoped>\n",
       "    .dataframe tbody tr th:only-of-type {\n",
       "        vertical-align: middle;\n",
       "    }\n",
       "\n",
       "    .dataframe tbody tr th {\n",
       "        vertical-align: top;\n",
       "    }\n",
       "\n",
       "    .dataframe thead th {\n",
       "        text-align: right;\n",
       "    }\n",
       "</style>\n",
       "<table border=\"1\" class=\"dataframe\">\n",
       "  <thead>\n",
       "    <tr style=\"text-align: right;\">\n",
       "      <th></th>\n",
       "      <th>UserID</th>\n",
       "    </tr>\n",
       "  </thead>\n",
       "  <tbody>\n",
       "    <tr>\n",
       "      <th>0</th>\n",
       "      <td>4</td>\n",
       "    </tr>\n",
       "    <tr>\n",
       "      <th>1</th>\n",
       "      <td>5</td>\n",
       "    </tr>\n",
       "    <tr>\n",
       "      <th>2</th>\n",
       "      <td>6</td>\n",
       "    </tr>\n",
       "  </tbody>\n",
       "</table>\n",
       "</div>"
      ],
      "text/plain": [
       "   UserID\n",
       "0       4\n",
       "1       5\n",
       "2       6"
      ]
     },
     "execution_count": 7,
     "metadata": {},
     "output_type": "execute_result"
    }
   ],
   "source": [
    "df.head()"
   ]
  },
  {
   "cell_type": "code",
   "execution_count": 16,
   "id": "a077add8",
   "metadata": {},
   "outputs": [
    {
     "data": {
      "text/plain": [
       "0    4\n",
       "1    5\n",
       "2    6\n",
       "Name: UserID, dtype: int64"
      ]
     },
     "execution_count": 16,
     "metadata": {},
     "output_type": "execute_result"
    }
   ],
   "source": [
    "usuarios = df[\"UserID\"]\n",
    "usuarios"
   ]
  },
  {
   "cell_type": "code",
   "execution_count": 18,
   "id": "418d3179",
   "metadata": {},
   "outputs": [],
   "source": [
    "#Transformando os dados\n",
    "\n",
    "def transforma_dados(dados):\n",
    "    dados += 1000\n",
    "    return dados"
   ]
  },
  {
   "cell_type": "code",
   "execution_count": 19,
   "id": "5dfd248c",
   "metadata": {},
   "outputs": [
    {
     "name": "stdout",
     "output_type": "stream",
     "text": [
      "0    1004\n",
      "1    1005\n",
      "2    1006\n",
      "Name: UserID, dtype: int64\n"
     ]
    }
   ],
   "source": [
    "transforma_dados(usuarios)\n",
    "print(usuarios)"
   ]
  },
  {
   "cell_type": "code",
   "execution_count": 20,
   "id": "d67a3ecb",
   "metadata": {},
   "outputs": [],
   "source": [
    "#Carregando os dados em um novo arquivo\n",
    "\n",
    "def carrega_dados(dados, caminho_saida):\n",
    "    dados.to_csv(caminho_saida, index=False)\n",
    "    "
   ]
  },
  {
   "cell_type": "code",
   "execution_count": 21,
   "id": "9ea807e8",
   "metadata": {},
   "outputs": [],
   "source": [
    "carrega_dados(usuarios,'C:/Users/gusma/Documents/DIO/Curso_python/Desafio_completo.csv')"
   ]
  }
 ],
 "metadata": {
  "kernelspec": {
   "display_name": "Python 3 (ipykernel)",
   "language": "python",
   "name": "python3"
  },
  "language_info": {
   "codemirror_mode": {
    "name": "ipython",
    "version": 3
   },
   "file_extension": ".py",
   "mimetype": "text/x-python",
   "name": "python",
   "nbconvert_exporter": "python",
   "pygments_lexer": "ipython3",
   "version": "3.9.7"
  }
 },
 "nbformat": 4,
 "nbformat_minor": 5
}
